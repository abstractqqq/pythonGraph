{
  "nbformat": 4,
  "nbformat_minor": 0,
  "metadata": {
    "colab": {
      "name": "graph_and_problems.ipynb",
      "provenance": [],
      "collapsed_sections": [],
      "authorship_tag": "ABX9TyNCkDXDxO/LXgaBaZxlEmJL",
      "include_colab_link": true
    },
    "kernelspec": {
      "name": "python3",
      "display_name": "Python 3"
    },
    "language_info": {
      "name": "python"
    }
  },
  "cells": [
    {
      "cell_type": "markdown",
      "metadata": {
        "id": "view-in-github",
        "colab_type": "text"
      },
      "source": [
        "<a href=\"https://colab.research.google.com/github/qtren/pythonGraph/blob/main/graph_and_problems.ipynb\" target=\"_parent\"><img src=\"https://colab.research.google.com/assets/colab-badge.svg\" alt=\"Open In Colab\"/></a>"
      ]
    },
    {
      "cell_type": "code",
      "metadata": {
        "id": "tUzzZWZ4wwgV"
      },
      "source": [
        "import math\n",
        "import numpy as np\n",
        "from collections import deque "
      ],
      "execution_count": null,
      "outputs": []
    },
    {
      "cell_type": "code",
      "metadata": {
        "id": "T_YG20I1wh1O"
      },
      "source": [
        "\n",
        "class graph:\n",
        "    def __init__(self, n : int):\n",
        "        n = abs(n)\n",
        "        self.edges = 0\n",
        "        self.n = n\n",
        "        self.adj = []\n",
        "        for i in range(n):\n",
        "            self.adj.append([0]*n)\n",
        "\n",
        "    def add_edge(self, a: int, b: int, weight:float):\n",
        "        a = abs(a)\n",
        "        b = abs(b)\n",
        "        weight = abs(weight)\n",
        "        if a >= self.n or b >= self.n :\n",
        "            print('Out of bounds. There are not so many vertices in graph. Nothing is done')\n",
        "        else:\n",
        "            self.adj[a][b] = weight\n",
        "            self.edges += 1\n",
        "\n",
        "    def display(self):\n",
        "        print(self.adj)\n",
        "\n",
        "    def adj_edges(self, n : int):\n",
        "        if n < self.n:\n",
        "            return self.adj[n]\n",
        "        else:\n",
        "            print('Out of bounds. There are only ' + str(self.n) + \" vertices in graph.\")\n",
        "\n",
        "    def reachable(self, start:int):\n",
        "        # returns a list of edges reachable from start\n",
        "        reached = [False]*len(self.adj)\n",
        "        reached[start] = True\n",
        "        queue = []\n",
        "        queue.append(start)\n",
        "        while queue:\n",
        "            top = queue.pop(0)\n",
        "            for i,v in enumerate(self.adj[top]):\n",
        "                if v != 0 and reached[i] == False:\n",
        "                    queue.append(i)\n",
        "                    reached[i] = True\n",
        "\n",
        "        return reached\n",
        "\n",
        "    # Find shortest path starting from \"start\"\n",
        "    def shortest_path(self, start:int):\n",
        "        n = len(self.adj)\n",
        "        if start >=  n or start < 0:\n",
        "            return -1\n",
        "\n",
        "        final = [False]*n\n",
        "        dist = [math.inf]*n\n",
        "        dist[start] = 0\n",
        "        for i,d in enumerate(self.adj[start]):\n",
        "            if d != 0:\n",
        "                dist[i] = d\n",
        "\n",
        "        reachable = self.reachable(start)\n",
        "        while (final != reachable):\n",
        "            m = math.inf\n",
        "            index = 0\n",
        "            for i,v in enumerate(dist):\n",
        "                if final[i] == False:\n",
        "                    if v < m:\n",
        "                        m = v\n",
        "                        index = i\n",
        "            \n",
        "            final[index] = True\n",
        "            print(dist)\n",
        "            print(final, index)\n",
        "            for i,b in enumerate(self.adj[index]):\n",
        "                if b != 0 and final[i] == False:\n",
        "                    new_dist = self.adj[index][i] + dist[index]\n",
        "                    if new_dist < dist[i]:\n",
        "                        dist[i] = new_dist\n",
        "\n",
        "        return dist\n",
        "\n",
        "\n",
        "    def num_edges(self):\n",
        "        return self.edges\n"
      ],
      "execution_count": null,
      "outputs": []
    },
    {
      "cell_type": "code",
      "metadata": {
        "colab": {
          "base_uri": "https://localhost:8080/"
        },
        "id": "demBaKgSxsT8",
        "outputId": "32fa2a34-fbda-4fbd-c3ae-b4d65d226a61"
      },
      "source": [
        "g = graph(6)\n",
        "g.add_edge(0, 3, 3)\n",
        "g.add_edge(1, 2, 4)\n",
        "g.add_edge(1, 5, 6)\n",
        "g.add_edge(2, 4, 3)\n",
        "g.add_edge(2, 5, 3)\n",
        "g.add_edge(3, 2, 2)\n",
        "g.add_edge(3, 4, 6)\n",
        "g.display()\n"
      ],
      "execution_count": null,
      "outputs": [
        {
          "output_type": "stream",
          "text": [
            "[[0, 0, 0, 3, 0, 0], [0, 0, 4, 0, 0, 6], [0, 0, 0, 0, 3, 3], [0, 0, 2, 0, 6, 0], [0, 0, 0, 0, 0, 0], [0, 0, 0, 0, 0, 0]]\n"
          ],
          "name": "stdout"
        }
      ]
    },
    {
      "cell_type": "code",
      "metadata": {
        "id": "l93j5MSgxsWS",
        "colab": {
          "base_uri": "https://localhost:8080/"
        },
        "outputId": "dd56aec8-c79c-4312-fe37-f6758b5b54d5"
      },
      "source": [
        "# Here inf means it's not possible to reach vertice 1 starting from 0, 5 means from vertice 0 to 5 the shortest\n",
        "# distance is 5.\n",
        "g.shortest_path(0)"
      ],
      "execution_count": null,
      "outputs": [
        {
          "output_type": "stream",
          "text": [
            "[0, inf, inf, 3, inf, inf]\n",
            "[True, False, False, False, False, False] 0\n",
            "[0, inf, inf, 3, inf, inf]\n",
            "[True, False, False, True, False, False] 3\n",
            "[0, inf, 5, 3, 9, inf]\n",
            "[True, False, True, True, False, False] 2\n",
            "[0, inf, 5, 3, 8, 8]\n",
            "[True, False, True, True, True, False] 4\n",
            "[0, inf, 5, 3, 8, 8]\n",
            "[True, False, True, True, True, True] 5\n"
          ],
          "name": "stdout"
        },
        {
          "output_type": "execute_result",
          "data": {
            "text/plain": [
              "[0, inf, 5, 3, 8, 8]"
            ]
          },
          "metadata": {
            "tags": []
          },
          "execution_count": 6
        }
      ]
    },
    {
      "cell_type": "code",
      "metadata": {
        "id": "djl7KR0zxsYw"
      },
      "source": [
        "# Node implementation of Graphs\n",
        "\n",
        "class graph_node:\n",
        "\n",
        "    def __init__(self, label):\n",
        "        self.label = label\n",
        "        self.adj_list = deque()\n",
        "\n",
        "    def add_edge(self, toNd):\n",
        "        self.adj_list.append(toNd)"
      ],
      "execution_count": null,
      "outputs": []
    },
    {
      "cell_type": "code",
      "metadata": {
        "id": "m3De_r5EPoVT"
      },
      "source": [
        "class graph2:\n",
        "\n",
        "    def __init__(self):\n",
        "        self.nodes = []\n",
        "\n",
        "    def add_node(self, nd : graph_node):\n",
        "        if nd in self.nodes:\n",
        "            return\n",
        "        else:\n",
        "            self.nodes.append(nd)\n",
        "\n",
        "    def display(self):\n",
        "        for nd in self.nodes:\n",
        "            print('Label:', nd.label, 'Adjacent to: ', end = \" \")\n",
        "            for adj in nd.adj_list:\n",
        "                print(adj.label, end = \" \")\n",
        "            print(\"\\n\")\n",
        "\n",
        "    def dfs(self, node: graph_node):\n",
        "        if node not in self.nodes:\n",
        "            return \"Node not part of the graph\"\n",
        "\n",
        "        stack = deque()\n",
        "        stack.append(node)\n",
        "        visited = {}\n",
        "        for node in self.nodes:\n",
        "            visited[id(node)] = False\n",
        "        while stack:\n",
        "            # while the stack is not empty\n",
        "            top = stack.pop()\n",
        "            if visited[id(top)] == False:\n",
        "                visited[id(top)] = True\n",
        "                print(top.label)\n",
        "                for a in top.adj_list:\n",
        "                    stack.append(a)\n",
        "\n",
        "    def bfs(self, node: graph_node):\n",
        "        if node not in self.nodes:\n",
        "            return \"Node not part of the graph\"\n",
        "\n",
        "        queue = deque()\n",
        "        queue.append(node)\n",
        "        visited = {}\n",
        "        for node in self.nodes:\n",
        "            visited[id(node)] = False\n",
        "        while queue:\n",
        "            # while the stack is not empty\n",
        "            head = queue.popleft()\n",
        "            if visited[id(head)] == False:\n",
        "                visited[id(head)] = True\n",
        "                print(head.label)\n",
        "                for a in head.adj_list:\n",
        "                    queue.append(a)"
      ],
      "execution_count": null,
      "outputs": []
    },
    {
      "cell_type": "code",
      "metadata": {
        "colab": {
          "base_uri": "https://localhost:8080/"
        },
        "id": "dCF7fm7pPpCG",
        "outputId": "419947a1-f6d4-4854-acc6-22bb87da6924"
      },
      "source": [
        "# Test case for BFS and DFS. This is essentially a binary tree. Because of the way BFS is implemented,\n",
        "# It goes from right to left.\n",
        "\n",
        "gh = graph2()\n",
        "node0 = graph_node(0)\n",
        "node1 = graph_node(1)\n",
        "node2 = graph_node(2)\n",
        "node3 = graph_node(3)\n",
        "node4 = graph_node(4)\n",
        "node5 = graph_node(5)\n",
        "node6 = graph_node(6)\n",
        "gh.add_node(node0)\n",
        "gh.add_node(node1)\n",
        "gh.add_node(node2)\n",
        "gh.add_node(node3)\n",
        "gh.add_node(node4)\n",
        "gh.add_node(node5)\n",
        "gh.add_node(node6)\n",
        "node0.add_edge(node1)\n",
        "node0.add_edge(node2)\n",
        "node1.add_edge(node3)\n",
        "node1.add_edge(node4)\n",
        "node2.add_edge(node5)\n",
        "node2.add_edge(node6)\n",
        "\n",
        "\n",
        "gh.dfs(node0)\n",
        "print(\"----------------\")\n",
        "gh.bfs(node0)"
      ],
      "execution_count": null,
      "outputs": [
        {
          "output_type": "stream",
          "text": [
            "0\n",
            "2\n",
            "6\n",
            "5\n",
            "1\n",
            "4\n",
            "3\n",
            "----------------\n",
            "0\n",
            "1\n",
            "2\n",
            "3\n",
            "4\n",
            "5\n",
            "6\n"
          ],
          "name": "stdout"
        }
      ]
    },
    {
      "cell_type": "code",
      "metadata": {
        "id": "-0Y0gr54PpEk"
      },
      "source": [
        "'''\n",
        "    0: empty\n",
        "    1: healthy orange\n",
        "    2: rotten orange\n",
        "\n",
        "    Every minite, a rotten orange will contaminate all its neighbor oranges in a grid. In how many minutes\n",
        "    will all oranges be rotten? If it's not possible, return -1\n",
        "\n",
        "    Example:\n",
        "    0 2\n",
        "    Return 0\n",
        "    because all oranges are rotten already\n",
        "\n",
        "    2 1 1\n",
        "    1 1 0\n",
        "    0 1 1\n",
        "\n",
        "    Output should be 4.\n",
        "\n",
        "    2 1 1 \n",
        "    0 1 1\n",
        "    1 0 1\n",
        "\n",
        "    Output should be -1 because the bottom left orange will not be rotten.\n",
        "\n",
        "    2 1 2\n",
        "    1 1 1\n",
        "    2 1 2\n",
        "\n",
        "    Output should be 2.\n",
        "'''\n",
        "\n",
        "def solution(arr):\n",
        "    # arr should be a 2D array\n",
        "    bad = []\n",
        "    total = 0\n",
        "    minute = 0\n",
        "    # First find all bad oranges and fill visited with false\n",
        "    for i in range(len(arr)):\n",
        "        for j in range(len(arr[i])):\n",
        "            if arr[i][j] == 2:\n",
        "                bad.append((i,j))\n",
        "                total += 1\n",
        "            elif arr[i][j] == 1:\n",
        "                total += 1\n",
        "\n",
        "    def in_arr(t:tuple):\n",
        "        try:\n",
        "            x = t[0]\n",
        "            y = t[1]\n",
        "            if x < 0 or y < 0:\n",
        "                raise Exception\n",
        "            \n",
        "            a = arr[x][y]\n",
        "        except:\n",
        "            return False\n",
        "        else:\n",
        "            return True\n",
        "    \n",
        "    \n",
        "    total_bad = 0\n",
        "    # Start BFS\n",
        "    while bad:\n",
        "        bad_num = len(bad)\n",
        "        minute += 1\n",
        "        total_bad += bad_num # because bad only contains new bad ones now\n",
        "        while bad_num > 0:\n",
        "            # Collect all neighbors and add to bad\n",
        "            t = bad.pop(0)\n",
        "            up = (t[0] + 1, t[1])\n",
        "            down = (t[0] - 1, t[1])\n",
        "            left = (t[0], t[1] - 1)\n",
        "            right = (t[0], t[1] + 1)\n",
        "            if in_arr(up) and arr[up[0]][up[1]] == 1:\n",
        "                bad.append(up)\n",
        "                arr[up[0]][up[1]] = 2\n",
        "                #print(up)\n",
        "            if in_arr(down) and arr[down[0]][down[1]] == 1:\n",
        "                bad.append(down)\n",
        "                arr[down[0]][down[1]] = 2\n",
        "                #print(down)\n",
        "            if in_arr(left) and arr[left[0]][left[1]] == 1:\n",
        "                bad.append(left)\n",
        "                arr[left[0]][left[1]] = 2\n",
        "                #print(left)\n",
        "            if in_arr(right) and arr[right[0]][right[1]] == 1:\n",
        "                bad.append(right)\n",
        "                arr[right[0]][right[1]] = 2\n",
        "                #print(right)\n",
        "\n",
        "            bad_num -= 1\n",
        "\n",
        "  \n",
        "    if total_bad >= total:\n",
        "        # Minute - 1 because we need one more iteration in the while loop when it termintes\n",
        "        # In the case of example 1, at minute 4 there is 1 orange left in bad, which is (2,2)\n",
        "        # But it takes 1 more minute for the algo to see that there is nothing more.\n",
        "        return (minute-1, total_bad, total)\n",
        "    else:\n",
        "        return (-1, total_bad, total)\n",
        "\n"
      ],
      "execution_count": null,
      "outputs": []
    },
    {
      "cell_type": "code",
      "metadata": {
        "colab": {
          "base_uri": "https://localhost:8080/"
        },
        "id": "gFKH4TfQPpG6",
        "outputId": "054ffc9e-8674-4753-ac4f-e1c82748bc03"
      },
      "source": [
        "arr = [[2,1,2], [1,1,1] , [2,1,2]]\n",
        "s = solution(arr)\n",
        "print(\"Minutes taken:\", s[0], \", Total Rotten Oranges at end:\", s[1], \", Total Oranges:\", s[2])"
      ],
      "execution_count": null,
      "outputs": [
        {
          "output_type": "stream",
          "text": [
            "Minutes taken: 2 , Total Rotten Oranges at end: 9 , Total Oranges: 9\n"
          ],
          "name": "stdout"
        }
      ]
    },
    {
      "cell_type": "code",
      "metadata": {
        "colab": {
          "base_uri": "https://localhost:8080/"
        },
        "id": "iRPFpZljPpJJ",
        "outputId": "2d2f1f18-ee3f-4117-9ef1-591aefde4639"
      },
      "source": [
        "arr = [[2,1,0], [0,1,0] , [0,1,0], [0,1,0],[0,1,0],[0,1,0],[0,1,0],[0,1,1]]\n",
        "s = solution(arr)\n",
        "print(\"Minutes taken:\", s[0], \", Total Rotten Oranges at end:\", s[1], \", Total Oranges:\", s[2])"
      ],
      "execution_count": null,
      "outputs": [
        {
          "output_type": "stream",
          "text": [
            "Minutes taken: 9 , Total Rotten Oranges at end: 10 , Total Oranges: 10\n"
          ],
          "name": "stdout"
        }
      ]
    },
    {
      "cell_type": "code",
      "metadata": {
        "colab": {
          "base_uri": "https://localhost:8080/"
        },
        "id": "YDGNrNpYPpLZ",
        "outputId": "7d393cb9-a6a4-44ac-e25f-bb5e3c7b095a"
      },
      "source": [
        "arr = [[2,0,1]]\n",
        "s = solution(arr)\n",
        "print(\"Minutes taken:\", s[0], \", Total Rotten Oranges at end:\", s[1], \", Total Oranges:\", s[2])"
      ],
      "execution_count": null,
      "outputs": [
        {
          "output_type": "stream",
          "text": [
            "Minutes taken: -1 , Total Rotten Oranges at end: 1 , Total Oranges: 2\n"
          ],
          "name": "stdout"
        }
      ]
    },
    {
      "cell_type": "code",
      "metadata": {
        "colab": {
          "base_uri": "https://localhost:8080/"
        },
        "id": "72tDxd75Pxwc",
        "outputId": "425b8ed3-906a-4614-8e7f-974e8832e667"
      },
      "source": [
        "arr = [[2,1,1], [0,1,1], [1,0,1]]\n",
        "s = solution(arr)\n",
        "print(\"Minutes taken:\", s[0], \", Total Rotten Oranges at end:\", s[1], \", Total Oranges:\", s[2])"
      ],
      "execution_count": null,
      "outputs": [
        {
          "output_type": "stream",
          "text": [
            "Minutes taken: -1 , Total Rotten Oranges at end: 6 , Total Oranges: 7\n"
          ],
          "name": "stdout"
        }
      ]
    },
    {
      "cell_type": "code",
      "metadata": {
        "colab": {
          "base_uri": "https://localhost:8080/"
        },
        "id": "RFZzfNqBPxys",
        "outputId": "9f1c1291-82cb-449b-c2d0-f3ae7d61ff45"
      },
      "source": [
        "arr = [[2,2,2]]\n",
        "s = solution(arr)\n",
        "print(\"Minutes taken:\", s[0], \", Total Rotten Oranges at end:\", s[1], \", Total Oranges:\", s[2])"
      ],
      "execution_count": null,
      "outputs": [
        {
          "output_type": "stream",
          "text": [
            "Minutes taken: 0 , Total Rotten Oranges at end: 3 , Total Oranges: 3\n"
          ],
          "name": "stdout"
        }
      ]
    }
  ]
}