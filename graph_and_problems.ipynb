{
  "nbformat": 4,
  "nbformat_minor": 0,
  "metadata": {
    "colab": {
      "name": "graph_and_problems.ipynb",
      "provenance": [],
      "collapsed_sections": [],
      "authorship_tag": "ABX9TyPHS8xLheV+j7JLi8OPqdFa",
      "include_colab_link": true
    },
    "kernelspec": {
      "name": "python3",
      "display_name": "Python 3"
    },
    "language_info": {
      "name": "python"
    }
  },
  "cells": [
    {
      "cell_type": "markdown",
      "metadata": {
        "id": "view-in-github",
        "colab_type": "text"
      },
      "source": [
        "<a href=\"https://colab.research.google.com/github/qtren/pythonGraph/blob/main/graph_and_problems.ipynb\" target=\"_parent\"><img src=\"https://colab.research.google.com/assets/colab-badge.svg\" alt=\"Open In Colab\"/></a>"
      ]
    },
    {
      "cell_type": "code",
      "metadata": {
        "id": "tUzzZWZ4wwgV"
      },
      "source": [
        "import math\n",
        "import numpy as np\n",
        "from collections import deque "
      ],
      "execution_count": 5,
      "outputs": []
    },
    {
      "cell_type": "code",
      "metadata": {
        "id": "T_YG20I1wh1O"
      },
      "source": [
        "\n",
        "class graph:\n",
        "    def __init__(self, n : int):\n",
        "        n = abs(n)\n",
        "        self.edges = 0\n",
        "        self.n = n\n",
        "        self.adj = []\n",
        "        for i in range(n):\n",
        "            self.adj.append([0]*n)\n",
        "\n",
        "    def add_edge(self, a: int, b: int, weight:float):\n",
        "        a = abs(a)\n",
        "        b = abs(b)\n",
        "        weight = abs(weight)\n",
        "        if a >= self.n or b >= self.n :\n",
        "            print('Out of bounds. There are not so many vertices in graph. Nothing is done')\n",
        "        else:\n",
        "            self.adj[a][b] = weight\n",
        "            self.edges += 1\n",
        "\n",
        "    def display(self):\n",
        "        print(self.adj)\n",
        "\n",
        "    def adj_edges(self, n : int):\n",
        "        if n < self.n:\n",
        "            return self.adj[n]\n",
        "        else:\n",
        "            print('Out of bounds. There are only ' + str(self.n) + \" vertices in graph.\")\n",
        "\n",
        "    def reachable(self, start:int):\n",
        "        # returns a list of edges reachable from start\n",
        "        reached = [False]*len(self.adj)\n",
        "        reached[start] = True\n",
        "        queue = []\n",
        "        queue.append(start)\n",
        "        while queue:\n",
        "            top = queue.pop(0)\n",
        "            for i,v in enumerate(self.adj[top]):\n",
        "                if v != 0 and reached[i] == False:\n",
        "                    queue.append(i)\n",
        "                    reached[i] = True\n",
        "\n",
        "        return reached\n",
        "\n",
        "    # Find shortest path starting from \"start\"\n",
        "    def shortest_path(self, start:int):\n",
        "        n = len(self.adj)\n",
        "        if start >=  n or start < 0:\n",
        "            return -1\n",
        "\n",
        "        final = [False]*n\n",
        "        dist = [math.inf]*n\n",
        "        dist[start] = 0\n",
        "        for i,d in enumerate(self.adj[start]):\n",
        "            if d != 0:\n",
        "                dist[i] = d\n",
        "\n",
        "        reachable = self.reachable(start) \n",
        "        while (final != reachable):\n",
        "            m = math.inf\n",
        "            index = 0\n",
        "            for i,v in enumerate(dist):\n",
        "                if final[i] == False:\n",
        "                    if v < m:\n",
        "                        m = v\n",
        "                        index = i\n",
        "            \n",
        "            final[index] = True\n",
        "            print(dist)\n",
        "            print(final, index)\n",
        "            for i,b in enumerate(self.adj[index]):\n",
        "                if b != 0 and final[i] == False:\n",
        "                    new_dist = self.adj[index][i] + dist[index]\n",
        "                    if new_dist < dist[i]:\n",
        "                        dist[i] = new_dist\n",
        "\n",
        "        return dist\n",
        "\n",
        "\n",
        "    def num_edges(self):\n",
        "        return self.edges\n"
      ],
      "execution_count": null,
      "outputs": []
    },
    {
      "cell_type": "code",
      "metadata": {
        "colab": {
          "base_uri": "https://localhost:8080/"
        },
        "id": "demBaKgSxsT8",
        "outputId": "324bfb72-3052-4d9c-e87d-a1d7a38d7ea0"
      },
      "source": [
        "g = graph(6)\n",
        "g.add_edge(0, 3, 3)\n",
        "g.add_edge(1, 2, 4)\n",
        "g.add_edge(1, 5, 6)\n",
        "g.add_edge(2, 4, 3)\n",
        "g.add_edge(2, 5, 3)\n",
        "g.add_edge(3, 2, 2)\n",
        "g.add_edge(3, 4, 6)\n",
        "g.display()\n"
      ],
      "execution_count": null,
      "outputs": [
        {
          "output_type": "stream",
          "text": [
            "[[0, 0, 0, 3, 0, 0], [0, 0, 4, 0, 0, 6], [0, 0, 0, 0, 3, 3], [0, 0, 2, 0, 6, 0], [0, 0, 0, 0, 0, 0], [0, 0, 0, 0, 0, 0]]\n"
          ],
          "name": "stdout"
        }
      ]
    },
    {
      "cell_type": "code",
      "metadata": {
        "id": "l93j5MSgxsWS",
        "colab": {
          "base_uri": "https://localhost:8080/"
        },
        "outputId": "0f8ca83d-70fe-43e9-bec6-20108259f12b"
      },
      "source": [
        "# Here inf means it's not possible to reach vertice 1 starting from 0, 5 means from vertice 0 to 5 the shortest\n",
        "# distance is 5.\n",
        "g.shortest_path(0)"
      ],
      "execution_count": null,
      "outputs": [
        {
          "output_type": "stream",
          "text": [
            "[0, inf, inf, 3, inf, inf]\n",
            "[True, False, False, False, False, False] 0\n",
            "[0, inf, inf, 3, inf, inf]\n",
            "[True, False, False, True, False, False] 3\n",
            "[0, inf, 5, 3, 9, inf]\n",
            "[True, False, True, True, False, False] 2\n",
            "[0, inf, 5, 3, 8, 8]\n",
            "[True, False, True, True, True, False] 4\n",
            "[0, inf, 5, 3, 8, 8]\n",
            "[True, False, True, True, True, True] 5\n"
          ],
          "name": "stdout"
        },
        {
          "output_type": "execute_result",
          "data": {
            "text/plain": [
              "[0, inf, 5, 3, 8, 8]"
            ]
          },
          "metadata": {
            "tags": []
          },
          "execution_count": 9
        }
      ]
    },
    {
      "cell_type": "code",
      "metadata": {
        "id": "djl7KR0zxsYw"
      },
      "source": [
        "# Node implementation of Graphs\n",
        "# Vertice..\n",
        "class graph_node:\n",
        "    \n",
        "    def __init__(self, label):\n",
        "        self.label = label\n",
        "        self.adj_list = []\n",
        "        \n",
        "        # Use this for Prim's algo\n",
        "        # self.weight_list = []\n",
        "        # Use this for Kruskal's algo\n",
        "        self.edges = {}\n",
        "\n",
        "    def add_edge(self, toNd, weight = 1):\n",
        "        self.adj_list.append(toNd)\n",
        "        # Use this for Prim's algo\n",
        "        # self.weight_list.append(weight)\n",
        "        # Use this for Kruskal's algo\n",
        "        self.edges[(self.label, toNd.label)] = weight"
      ],
      "execution_count": 11,
      "outputs": []
    },
    {
      "cell_type": "code",
      "metadata": {
        "id": "m3De_r5EPoVT"
      },
      "source": [
        "class graph2:\n",
        "\n",
        "    def __init__(self):\n",
        "        self.nodes = []\n",
        "        self.vertices = 0\n",
        "\n",
        "    def add_node(self, nd : graph_node):\n",
        "        if nd in self.nodes:\n",
        "            return\n",
        "        else:\n",
        "            self.vertices += 1\n",
        "            self.nodes.append(nd)\n",
        "\n",
        "    def display(self):\n",
        "        for nd in self.nodes:\n",
        "            print('Label:', nd.label, 'Adjacent to: ', end = \" \")\n",
        "            for adj in nd.adj_list:\n",
        "                print(adj.label, end = \" \")\n",
        "            print(\"\\n\")\n",
        "\n",
        "    def dfs(self, node: graph_node):\n",
        "        if node not in self.nodes:\n",
        "            return \"Node not part of the graph\"\n",
        "\n",
        "        stack = deque()\n",
        "        stack.append(node)\n",
        "        visited = {}\n",
        "        for node in self.nodes:\n",
        "            visited[id(node)] = False\n",
        "        while stack:\n",
        "            # while the stack is not empty\n",
        "            top = stack.pop()\n",
        "            print(top.label)\n",
        "            visited[id(top)] = True\n",
        "            for a in top.adj_list:\n",
        "                if visited[id(a)] == False:\n",
        "                    stack.append(a)\n",
        "\n",
        "    def bfs(self, node: graph_node):\n",
        "        if node not in self.nodes:\n",
        "            return \"Node not part of the graph\"\n",
        "\n",
        "        queue = deque()\n",
        "        queue.append(node)\n",
        "        visited = {}\n",
        "        for node in self.nodes:\n",
        "            visited[id(node)] = False\n",
        "        while queue:\n",
        "            # while the stack is not empty\n",
        "            head = queue.popleft()\n",
        "            print(head.label)\n",
        "            visited[id(head)] = True\n",
        "            for a in head.adj_list:\n",
        "                if visited[id(a)] == False:\n",
        "                    queue.append(a)\n",
        "\n",
        "    def cyclic_checker(self) -> bool:\n",
        "        if not self.nodes: # If empty, return not cyclic\n",
        "            return False\n",
        "\n",
        "        queue = deque()\n",
        "        queue.append(self.nodes[0])\n",
        "        visited = {}\n",
        "        for node in self.nodes:\n",
        "            visited[id(node)] = False\n",
        "        while queue:\n",
        "            # while the stack is not empty\n",
        "            head = queue.popleft()\n",
        "            visited[id(head)] = True\n",
        "            for a in head.adj_list:\n",
        "                if visited[id(a)] == False:\n",
        "                    queue.append(a)\n",
        "                else:\n",
        "                    # That means the head node has already been visited\n",
        "                    # That means we've arrived in a cycle.\n",
        "                    return True\n",
        "\n",
        "        else:\n",
        "            return False"
      ],
      "execution_count": 40,
      "outputs": []
    },
    {
      "cell_type": "code",
      "metadata": {
        "colab": {
          "base_uri": "https://localhost:8080/"
        },
        "id": "l4A6GTXlF1qM",
        "outputId": "eacd7987-5c01-421a-ba20-e942231d6037"
      },
      "source": [
        "# Cyclic checker test\n",
        "g_test = graph2()\n",
        "n0 = graph_node(0)\n",
        "n1 = graph_node(1)\n",
        "n2 = graph_node(2)\n",
        "n3 = graph_node(3)\n",
        "g_test.add_node(n0)\n",
        "g_test.add_node(n1)\n",
        "g_test.add_node(n2)\n",
        "g_test.add_node(n3)\n",
        "n0.add_edge(n1)\n",
        "n1.add_edge(n2)\n",
        "n2.add_edge(n3)\n",
        "n3.add_edge(n0)\n",
        "g_test.cyclic_checker() # as expected this is cyclic"
      ],
      "execution_count": 41,
      "outputs": [
        {
          "output_type": "execute_result",
          "data": {
            "text/plain": [
              "True"
            ]
          },
          "metadata": {
            "tags": []
          },
          "execution_count": 41
        }
      ]
    },
    {
      "cell_type": "code",
      "metadata": {
        "colab": {
          "base_uri": "https://localhost:8080/"
        },
        "id": "BxiMCpqXG115",
        "outputId": "bdb45bb2-e698-46f4-d416-b2904141bfe8"
      },
      "source": [
        "# Cyclic checker test\n",
        "g_test = graph2()\n",
        "n0 = graph_node(0)\n",
        "n1 = graph_node(1)\n",
        "n2 = graph_node(2)\n",
        "n3 = graph_node(3)\n",
        "g_test.add_node(n0)\n",
        "g_test.add_node(n1)\n",
        "g_test.add_node(n2)\n",
        "g_test.add_node(n3)\n",
        "n0.add_edge(n1)\n",
        "n1.add_edge(n2)\n",
        "n2.add_edge(n3)\n",
        "# Now this is not cyclic, because n3 has no edge\n",
        "g_test.cyclic_checker() "
      ],
      "execution_count": 25,
      "outputs": [
        {
          "output_type": "execute_result",
          "data": {
            "text/plain": [
              "False"
            ]
          },
          "metadata": {
            "tags": []
          },
          "execution_count": 25
        }
      ]
    },
    {
      "cell_type": "code",
      "metadata": {
        "colab": {
          "base_uri": "https://localhost:8080/"
        },
        "id": "dCF7fm7pPpCG",
        "outputId": "97c00e04-52dc-4366-b03f-2f3571919f24"
      },
      "source": [
        "# Test case for BFS and DFS. This is essentially a binary tree. Because of the way BFS is implemented,\n",
        "# It goes from right to left.\n",
        "\n",
        "gh = graph2()\n",
        "node0 = graph_node(0)\n",
        "node1 = graph_node(1)\n",
        "node2 = graph_node(2)\n",
        "node3 = graph_node(3)\n",
        "node4 = graph_node(4)\n",
        "node5 = graph_node(5)\n",
        "node6 = graph_node(6)\n",
        "gh.add_node(node0)\n",
        "gh.add_node(node1)\n",
        "gh.add_node(node2)\n",
        "gh.add_node(node3)\n",
        "gh.add_node(node4)\n",
        "gh.add_node(node5)\n",
        "gh.add_node(node6)\n",
        "node0.add_edge(node1, 2)\n",
        "#node1.add_edge(node0, 2)\n",
        "node0.add_edge(node2, 1)\n",
        "#node2.add_edge(node0, 1)\n",
        "node1.add_edge(node3, 3)\n",
        "#node3.add_edge(node1, 3)\n",
        "node1.add_edge(node4, 4)\n",
        "#node4.add_edge(node1, 4)\n",
        "node2.add_edge(node5, 5)\n",
        "#node5.add_edge(node2, 5)\n",
        "node2.add_edge(node6, 6)\n",
        "#node6.add_edge(node2, 6)\n",
        "\n",
        "\n",
        "gh.dfs(node0)\n",
        "print(\"----------------\")\n",
        "gh.bfs(node0)\n",
        "print(\"----------------\")\n",
        "gh.cyclic_checker() # This is a tree, so obviously acyclic. Now if we uncomment the add_edge\n",
        "# statements above, we will get that gh is cyclic, because it will become an undirect graph."
      ],
      "execution_count": 29,
      "outputs": [
        {
          "output_type": "stream",
          "text": [
            "0\n",
            "2\n",
            "6\n",
            "5\n",
            "1\n",
            "4\n",
            "3\n",
            "----------------\n",
            "0\n",
            "1\n",
            "2\n",
            "3\n",
            "4\n",
            "5\n",
            "6\n",
            "----------------\n"
          ],
          "name": "stdout"
        },
        {
          "output_type": "execute_result",
          "data": {
            "text/plain": [
              "False"
            ]
          },
          "metadata": {
            "tags": []
          },
          "execution_count": 29
        }
      ]
    },
    {
      "cell_type": "code",
      "metadata": {
        "id": "-0Y0gr54PpEk"
      },
      "source": [
        "'''\n",
        "    0: empty\n",
        "    1: healthy orange\n",
        "    2: rotten orange\n",
        "\n",
        "    Every minite, a rotten orange will contaminate all its neighbor oranges in a grid. In how many minutes\n",
        "    will all oranges be rotten? If it's not possible, return -1\n",
        "\n",
        "    Example:\n",
        "    0 2\n",
        "    Return 0\n",
        "    because all oranges are rotten already\n",
        "\n",
        "    2 1 1\n",
        "    1 1 0\n",
        "    0 1 1\n",
        "\n",
        "    Output should be 4.\n",
        "\n",
        "    2 1 1 \n",
        "    0 1 1\n",
        "    1 0 1\n",
        "\n",
        "    Output should be -1 because the bottom left orange will not be rotten.\n",
        "\n",
        "    2 1 2\n",
        "    1 1 1\n",
        "    2 1 2\n",
        "\n",
        "    Output should be 2.\n",
        "'''\n",
        "\n",
        "def solution(arr):\n",
        "    # arr should be a 2D array\n",
        "    bad = []\n",
        "    total = 0\n",
        "    minute = 0\n",
        "    # First find all bad oranges and fill visited with false\n",
        "    for i in range(len(arr)):\n",
        "        for j in range(len(arr[i])):\n",
        "            if arr[i][j] == 2:\n",
        "                bad.append((i,j))\n",
        "                total += 1\n",
        "            elif arr[i][j] == 1:\n",
        "                total += 1\n",
        "\n",
        "    def in_arr(t:tuple):\n",
        "        try:\n",
        "            x = t[0]\n",
        "            y = t[1]\n",
        "            if x < 0 or y < 0:\n",
        "                raise Exception\n",
        "            \n",
        "            a = arr[x][y]\n",
        "        except:\n",
        "            return False\n",
        "        else:\n",
        "            return True\n",
        "    \n",
        "    \n",
        "    total_bad = 0\n",
        "    # Start BFS\n",
        "    while bad:\n",
        "        bad_num = len(bad)\n",
        "        minute += 1\n",
        "        total_bad += bad_num # because bad only contains new bad ones now\n",
        "        while bad_num > 0:\n",
        "            # Collect all neighbors and add to bad\n",
        "            t = bad.pop(0)\n",
        "            up = (t[0] + 1, t[1])\n",
        "            down = (t[0] - 1, t[1])\n",
        "            left = (t[0], t[1] - 1)\n",
        "            right = (t[0], t[1] + 1)\n",
        "            if in_arr(up) and arr[up[0]][up[1]] == 1:\n",
        "                bad.append(up)\n",
        "                arr[up[0]][up[1]] = 2\n",
        "                #print(up)\n",
        "            if in_arr(down) and arr[down[0]][down[1]] == 1:\n",
        "                bad.append(down)\n",
        "                arr[down[0]][down[1]] = 2\n",
        "                #print(down)\n",
        "            if in_arr(left) and arr[left[0]][left[1]] == 1:\n",
        "                bad.append(left)\n",
        "                arr[left[0]][left[1]] = 2\n",
        "                #print(left)\n",
        "            if in_arr(right) and arr[right[0]][right[1]] == 1:\n",
        "                bad.append(right)\n",
        "                arr[right[0]][right[1]] = 2\n",
        "                #print(right)\n",
        "\n",
        "            bad_num -= 1\n",
        "\n",
        "  \n",
        "    if total_bad >= total:\n",
        "        # Minute - 1 because we need one more iteration in the while loop when it termintes\n",
        "        # In the case of example 1, at minute 4 there is 1 orange left in bad, which is (2,2)\n",
        "        # But it takes 1 more minute for the algo to see that there is nothing more.\n",
        "        return (minute-1, total_bad, total)\n",
        "    else:\n",
        "        return (-1, total_bad, total)\n",
        "\n"
      ],
      "execution_count": null,
      "outputs": []
    },
    {
      "cell_type": "code",
      "metadata": {
        "colab": {
          "base_uri": "https://localhost:8080/"
        },
        "id": "gFKH4TfQPpG6",
        "outputId": "054ffc9e-8674-4753-ac4f-e1c82748bc03"
      },
      "source": [
        "arr = [[2,1,2], [1,1,1] , [2,1,2]]\n",
        "s = solution(arr)\n",
        "print(\"Minutes taken:\", s[0], \", Total Rotten Oranges at end:\", s[1], \", Total Oranges:\", s[2])"
      ],
      "execution_count": null,
      "outputs": [
        {
          "output_type": "stream",
          "text": [
            "Minutes taken: 2 , Total Rotten Oranges at end: 9 , Total Oranges: 9\n"
          ],
          "name": "stdout"
        }
      ]
    },
    {
      "cell_type": "code",
      "metadata": {
        "colab": {
          "base_uri": "https://localhost:8080/"
        },
        "id": "iRPFpZljPpJJ",
        "outputId": "2d2f1f18-ee3f-4117-9ef1-591aefde4639"
      },
      "source": [
        "arr = [[2,1,0], [0,1,0] , [0,1,0], [0,1,0],[0,1,0],[0,1,0],[0,1,0],[0,1,1]]\n",
        "s = solution(arr)\n",
        "print(\"Minutes taken:\", s[0], \", Total Rotten Oranges at end:\", s[1], \", Total Oranges:\", s[2])"
      ],
      "execution_count": null,
      "outputs": [
        {
          "output_type": "stream",
          "text": [
            "Minutes taken: 9 , Total Rotten Oranges at end: 10 , Total Oranges: 10\n"
          ],
          "name": "stdout"
        }
      ]
    },
    {
      "cell_type": "code",
      "metadata": {
        "colab": {
          "base_uri": "https://localhost:8080/"
        },
        "id": "YDGNrNpYPpLZ",
        "outputId": "7d393cb9-a6a4-44ac-e25f-bb5e3c7b095a"
      },
      "source": [
        "arr = [[2,0,1]]\n",
        "s = solution(arr)\n",
        "print(\"Minutes taken:\", s[0], \", Total Rotten Oranges at end:\", s[1], \", Total Oranges:\", s[2])"
      ],
      "execution_count": null,
      "outputs": [
        {
          "output_type": "stream",
          "text": [
            "Minutes taken: -1 , Total Rotten Oranges at end: 1 , Total Oranges: 2\n"
          ],
          "name": "stdout"
        }
      ]
    },
    {
      "cell_type": "code",
      "metadata": {
        "colab": {
          "base_uri": "https://localhost:8080/"
        },
        "id": "72tDxd75Pxwc",
        "outputId": "425b8ed3-906a-4614-8e7f-974e8832e667"
      },
      "source": [
        "arr = [[2,1,1], [0,1,1], [1,0,1]]\n",
        "s = solution(arr)\n",
        "print(\"Minutes taken:\", s[0], \", Total Rotten Oranges at end:\", s[1], \", Total Oranges:\", s[2])"
      ],
      "execution_count": null,
      "outputs": [
        {
          "output_type": "stream",
          "text": [
            "Minutes taken: -1 , Total Rotten Oranges at end: 6 , Total Oranges: 7\n"
          ],
          "name": "stdout"
        }
      ]
    },
    {
      "cell_type": "code",
      "metadata": {
        "colab": {
          "base_uri": "https://localhost:8080/"
        },
        "id": "RFZzfNqBPxys",
        "outputId": "9f1c1291-82cb-449b-c2d0-f3ae7d61ff45"
      },
      "source": [
        "arr = [[2,2,2]]\n",
        "s = solution(arr)\n",
        "print(\"Minutes taken:\", s[0], \", Total Rotten Oranges at end:\", s[1], \", Total Oranges:\", s[2])"
      ],
      "execution_count": null,
      "outputs": [
        {
          "output_type": "stream",
          "text": [
            "Minutes taken: 0 , Total Rotten Oranges at end: 3 , Total Oranges: 3\n"
          ],
          "name": "stdout"
        }
      ]
    },
    {
      "cell_type": "code",
      "metadata": {
        "id": "R31ynPbamEYG"
      },
      "source": [
        "# Minimal Spanning tree and algos\n",
        "\n",
        "# Before running this, we need to make a little change to \n",
        "# what infomation we should store in graph_node\n",
        "# See comment there\n",
        "\n",
        "# Prim's algorithm\n",
        "\n",
        "def prim(start : graph_node, g : graph2):\n",
        "\n",
        "    gr = graph2()\n",
        "    gr.add_node(start)\n",
        "    \n",
        "\n",
        "    while gr.vertices < g.vertices:\n",
        "        mi = math.inf\n",
        "        mi_node = None\n",
        "        for v in gr.nodes:\n",
        "            for i,n in enumerate(v.adj_list):\n",
        "                #print(n not in gr.nodes)\n",
        "                #print(v.weight_list[i], mi)\n",
        "                if v.weight_list[i] < mi and n not in gr.nodes:\n",
        "                    mi = v.weight_list[i]\n",
        "                    mi_node = n\n",
        "\n",
        "        gr.add_node(mi_node)\n",
        "        #the node already contains edge info\n",
        "\n",
        "    return gr\n",
        "\n",
        "        "
      ],
      "execution_count": 9,
      "outputs": []
    },
    {
      "cell_type": "code",
      "metadata": {
        "id": "L-P5zJnAmEaq",
        "colab": {
          "base_uri": "https://localhost:8080/"
        },
        "outputId": "aa219302-4080-4450-a8e8-76b5516d1ce7"
      },
      "source": [
        "# As expected, because gh is itself a tree,\n",
        "# The returned solution should be the same as the previous dfs solution\n",
        "new_g = prim(node0, gh)\n",
        "new_g.dfs(node0)"
      ],
      "execution_count": 10,
      "outputs": [
        {
          "output_type": "stream",
          "text": [
            "0\n",
            "2\n",
            "6\n",
            "5\n",
            "1\n",
            "4\n",
            "3\n"
          ],
          "name": "stdout"
        }
      ]
    },
    {
      "cell_type": "code",
      "metadata": {
        "id": "sQwhgnziKy9l"
      },
      "source": [
        "import heapq as h"
      ],
      "execution_count": 30,
      "outputs": []
    },
    {
      "cell_type": "code",
      "metadata": {
        "id": "h_UXgqJrmEdA"
      },
      "source": [
        "# Kruskal's Algorithm\n",
        "\n",
        "# Before running this, we need to make a little change to \n",
        "# what infomation we should store in graph_node\n",
        "# See comment there\n",
        "\n",
        "# Assumption 1: the label of the graph node should be integer\n",
        "# 2: the first node in graph has label 0, the second node has label 1, etc...\n",
        "\n",
        "\n",
        "def kruskal(gh:graph2):\n",
        "\n",
        "\n",
        "    gr = graph2()\n",
        "\n",
        "    # Create a dictionary to keep track of edges\n",
        "    edge = {}\n",
        "    # Difference: here we collect all vertices first, then add edges\n",
        "    min_heap = []\n",
        "    h.heapify(min_heap)\n",
        "    for i in range(gh.vertices):\n",
        "        nd = gh.nodes[i]\n",
        "        gr.add_node(graph_node(nd.label))\n",
        "        for key in nd.edges:\n",
        "            # (weight, key), so the min heap will be maintained by weight\n",
        "            h.heappush(min_heap, (nd.edges[key], key))\n",
        "    \n",
        "    num_edges = 0\n",
        "    while num_edges < gh.vertices - 1:\n",
        "        mi = h.heappop(min_heap)\n",
        "        min_edge = mi[1]\n",
        "        weight = mi[0]\n",
        "        # Now we know the min edge\n",
        "        i = min_edge[0] # from\n",
        "        j = min_edge[1] # to\n",
        "        gr.nodes[i].add_edge(gr.nodes[j], weight)\n",
        "        if gr.cyclic_checker():\n",
        "            # cyclic, so remove the last added edge\n",
        "            del gr.nodes[i].adj_list[-1]\n",
        "            del gr.nodes[i].edges[min_edge]\n",
        "        else:\n",
        "            num_edges += 1\n",
        "\n",
        "\n",
        "    return gr\n"
      ],
      "execution_count": 34,
      "outputs": []
    },
    {
      "cell_type": "code",
      "metadata": {
        "id": "Vk-AphpKmEfn",
        "colab": {
          "base_uri": "https://localhost:8080/"
        },
        "outputId": "d600aade-b609-40ca-820d-1b74e1a990d7"
      },
      "source": [
        "new_g = kruskal(gh)\n",
        "new_g.dfs(new_g.nodes[0])"
      ],
      "execution_count": 37,
      "outputs": [
        {
          "output_type": "stream",
          "text": [
            "0\n",
            "1\n",
            "4\n",
            "3\n",
            "2\n",
            "6\n",
            "5\n"
          ],
          "name": "stdout"
        }
      ]
    },
    {
      "cell_type": "code",
      "metadata": {
        "id": "zIg2xMm9mEh9",
        "colab": {
          "base_uri": "https://localhost:8080/"
        },
        "outputId": "45019ba9-7df0-4911-b057-b54fb883e9b5"
      },
      "source": [
        "g_test = graph2()\n",
        "n0 = graph_node(0)\n",
        "n1 = graph_node(1)\n",
        "n2 = graph_node(2)\n",
        "n3 = graph_node(3)\n",
        "g_test.add_node(n0)\n",
        "g_test.add_node(n1)\n",
        "g_test.add_node(n2)\n",
        "g_test.add_node(n3)\n",
        "n0.add_edge(n1)\n",
        "n1.add_edge(n2)\n",
        "n2.add_edge(n3)\n",
        "n3.add_edge(n0)\n",
        "g_test.cyclic_checker() # as expected this is cyclic ( 0 -> 1 -> 2 -> 3 -> 0)"
      ],
      "execution_count": 42,
      "outputs": [
        {
          "output_type": "execute_result",
          "data": {
            "text/plain": [
              "True"
            ]
          },
          "metadata": {
            "tags": []
          },
          "execution_count": 42
        }
      ]
    },
    {
      "cell_type": "code",
      "metadata": {
        "colab": {
          "base_uri": "https://localhost:8080/"
        },
        "id": "xyLlGov8OpFm",
        "outputId": "cbf4fdf3-5bad-4282-b92e-d18ca4896140"
      },
      "source": [
        "new_g = kruskal(g_test)\n",
        "new_g.dfs(new_g.nodes[0]) # Expected, because all edges have weight 1"
      ],
      "execution_count": 43,
      "outputs": [
        {
          "output_type": "stream",
          "text": [
            "0\n",
            "1\n",
            "2\n",
            "3\n"
          ],
          "name": "stdout"
        }
      ]
    },
    {
      "cell_type": "code",
      "metadata": {
        "colab": {
          "base_uri": "https://localhost:8080/"
        },
        "id": "L43lrjJJPDQi",
        "outputId": "e188d199-4092-46b6-c89e-9e1e801fd452"
      },
      "source": [
        "g_test = graph2()\n",
        "n0 = graph_node(0)\n",
        "n1 = graph_node(1)\n",
        "n2 = graph_node(2)\n",
        "n3 = graph_node(3)\n",
        "g_test.add_node(n0)\n",
        "g_test.add_node(n1)\n",
        "g_test.add_node(n2)\n",
        "g_test.add_node(n3)\n",
        "n0.add_edge(n1, 100) # Everything else is the same as above, except the weight here\n",
        "n1.add_edge(n2)\n",
        "n2.add_edge(n3)\n",
        "n3.add_edge(n0)\n",
        "g_test.cyclic_checker() # as expected this is cyclic"
      ],
      "execution_count": 46,
      "outputs": [
        {
          "output_type": "execute_result",
          "data": {
            "text/plain": [
              "True"
            ]
          },
          "metadata": {
            "tags": []
          },
          "execution_count": 46
        }
      ]
    },
    {
      "cell_type": "code",
      "metadata": {
        "colab": {
          "base_uri": "https://localhost:8080/"
        },
        "id": "0oFoITXzPIDE",
        "outputId": "f7fdc62c-48c7-41af-9f2a-1739a57ea855"
      },
      "source": [
        "new_g = kruskal(g_test)\n",
        "new_g.dfs(new_g.nodes[1]) # We need to start at 1, because in this case, the new graph is 1 -> 2 -> 3 -> 0\n",
        "# As expected we get what we want"
      ],
      "execution_count": 48,
      "outputs": [
        {
          "output_type": "stream",
          "text": [
            "1\n",
            "2\n",
            "3\n",
            "0\n"
          ],
          "name": "stdout"
        }
      ]
    }
  ]
}